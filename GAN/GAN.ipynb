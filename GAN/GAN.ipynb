{
 "cells": [
  {
   "cell_type": "markdown",
   "metadata": {},
   "source": [
    "## Generative Adversarial Network - Ian Goodfellow, 2014\n",
    "### 1. 生成器 generator\n",
    "### 2. 判别器 discriminator\n",
    "#### 初始化生成器的参数 $\\theta_g$ 和鉴别器的参数 $\\theta_d$\n",
    "#### 作迭代\n",
    "#### step 1: 从数据集中随机抽取 $m$ 个样本 $\\{x^1, x^2, \\cdots, x^m\\}$\n",
    "#### step 2: 从一种分布中随机生成 $m$ 个向量样本 $\\{z^1, z^2, \\cdots, z^m\\}$\n",
    "#### step 3: 由 $m$ 个向量样本得到 $m$ 个生成数据 $\\{\\hat{x}^1, \\hat{x}^2, \\cdots, \\hat{x}^m\\}, \\hat{x}^i = G(z^i)$\n",
    "#### step 4: 最大化目标函数\n",
    "$$\\hat{V} = \\frac{1}{m} \\sum_{i = 1}^m \\log D(x^i) + \\frac{1}{m} \\sum_{i = 1}^m \\log (1 - D(x^i))$$\n",
    "#### 更新参数: \n",
    "$$\\theta_d = \\theta_d + \\eta \\nabla \\hat{V} (\\theta_d)$$\n",
    "#### step 5: 从一种分布中随机生成 $m$ 个向量样本 $\\{z^1, z^2, \\cdots, z^m\\}$\n",
    "#### step 6: 最大化目标函数\n",
    "$$\\hat{V} = \\frac{1}{m} \\sum_{i = 1}^m \\log D(G(z^i)) $$\n",
    "#### 更新参数: \n",
    "$$\\theta_g = \\theta_g + \\eta \\nabla \\hat{V} (\\theta_g)$$"
   ]
  },
  {
   "cell_type": "code",
   "execution_count": null,
   "metadata": {},
   "outputs": [],
   "source": [
    "import torch\n",
    "import torch.nn as nn\n",
    "import torch.optim as optim\n",
    "import torchvision\n",
    "from torchvision import datasets,transforms,models\n",
    "import matplotlib.pyplot as plt\n",
    "import os"
   ]
  },
  {
   "cell_type": "code",
   "execution_count": null,
   "metadata": {},
   "outputs": [],
   "source": [
    "data_transform = transforms.Compose([\n",
    "        transforms.RandomHorizontalFlip(),\n",
    "        transforms.ToTensor(),\n",
    "        transforms.Normalize([0.5, 0.5, 0.5], [0.5, 0.5, 0.5])\n",
    "    ])"
   ]
  },
  {
   "cell_type": "code",
   "execution_count": null,
   "metadata": {},
   "outputs": [],
   "source": [
    "trainset = datasets.ImageFolder('faces', data_transform)\n",
    "trainloader = torch.utils.data.DataLoader(trainset, batch_size = 5, shuffle = True, num_workers = 4)"
   ]
  },
  {
   "cell_type": "code",
   "execution_count": null,
   "metadata": {},
   "outputs": [],
   "source": [
    "def imshow(inputs, picname):\n",
    "    plt.ion()\n",
    "    \n",
    "    inputs = inputs / 2 + 0.5\n",
    "    inputs = inputs.numpy().transpose((1, 2, 0))\n",
    "    plt.imshow(inputs)\n",
    "    plt.pause(0.01)\n",
    "\n",
    "    plt.savefig(os.path.join('faces', '0', picname + \".jpg\"))\n",
    "    plt.close()\n",
    "\n",
    "inputs,__ = next(iter(trainloader))\n",
    "imshow(torchvision.utils.make_grid(inputs), \"RealDataSample\")"
   ]
  },
  {
   "cell_type": "markdown",
   "metadata": {},
   "source": [
    "#### 为了生成高质量的图片, 使用深度卷积网络作为鉴别器, 使用反卷积神经网络作为生成器 - 深度卷积生成对抗网络 (Deep Convolutional Generative Adversarial Network, DCGAN)\n",
    "#### - 鉴别器为二元分类器\n",
    "##### 卷积核 4 $\\times$ 4, 步长 2\n",
    "##### 4 次卷积, 将像素大小为 96 $\\times$ 96 的图片转换成 256 张 6 $\\times$ 6, 再用线性变换为 1 维标量, 最后用 sigmoid 函数进行二元分类\n",
    "##### 没次卷积之后, 使用批归一化和 Leaky ReLU 激活函数来加速收敛\n",
    "\n",
    "#### - 生成器会完成由随机向量生成图片的过程\n",
    "##### 将 100 维的向量输入反卷积网络 (反卷积可以视为卷积的逆向操作, 可以逆向生成图片)\n",
    "##### 每一个反卷积层使用大小为 4 $\\times$ 4, 步长为  2 的反卷积核, 经过 4 次卷积, 生成 3 张像素大小为 96 $\\times$ 96 的特征图, 即一张彩色 96 $\\times$ 96 的图片"
   ]
  },
  {
   "cell_type": "code",
   "execution_count": null,
   "metadata": {},
   "outputs": [],
   "source": [
    "class D(nn.Module):\n",
    "    def __init__(self, nc, ndf):\n",
    "        super(D, self).__init__()\n",
    "        self.layer1 = nn.Sequential(nn.Conv2d(nc, ndf, kernel_size = 4, stride = 2, padding = 1),\n",
    "                                 nn.BatchNorm2d(ndf),\n",
    "                                 nn.LeakyReLU(0.2, inplace = True))\n",
    "        self.layer2 = nn.Sequential(nn.Conv2d(ndf, ndf*2, kernel_size = 4, stride = 2, padding = 1),\n",
    "                                 nn.BatchNorm2d(ndf*2),\n",
    "                                 nn.LeakyReLU(0.2, inplace = True))\n",
    "        self.layer3 = nn.Sequential(nn.Conv2d(ndf*2, ndf*4, kernel_size = 4, stride = 2, padding = 1),\n",
    "                                 nn.BatchNorm2d(ndf*4),\n",
    "                                 nn.LeakyReLU(0.2, inplace = True))\n",
    "        self.layer4 = nn.Sequential(nn.Conv2d(ndf*4, ndf*8, kernel_size = 4, stride = 2, padding = 1),\n",
    "                                 nn.BatchNorm2d(ndf*8),\n",
    "                                 nn.LeakyReLU(0.2, inplace = True))\n",
    "        self.fc = nn.Sequential(nn.Linear(256*6*6, 1),nn.Sigmoid())\n",
    "\n",
    "    def forward(self,x):\n",
    "        out = self.layer1(x)\n",
    "        out = self.layer2(out)\n",
    "        out = self.layer3(out)\n",
    "        out = self.layer4(out)\n",
    "        out = out.view(-1, 256*6*6)\n",
    "        out = self.fc(out)\n",
    "        return out"
   ]
  },
  {
   "cell_type": "code",
   "execution_count": null,
   "metadata": {},
   "outputs": [],
   "source": [
    "class G(nn.Module):\n",
    "    def __init__(self, nc, ngf, nz, feature_size):\n",
    "        super(G,self).__init__()\n",
    "        self.prj = nn.Linear(feature_size, nz*6*6)\n",
    "        self.layer1 = nn.Sequential(nn.ConvTranspose2d(nz, ngf*4, kernel_size = 4, stride = 2, padding = 1),\n",
    "                                 nn.BatchNorm2d(ngf*4),\n",
    "                                 nn.ReLU())\n",
    "        self.layer2 = nn.Sequential(nn.ConvTranspose2d(ngf*4, ngf*2, kernel_size = 4, stride = 2, padding = 1),\n",
    "                                 nn.BatchNorm2d(ngf*2),\n",
    "                                 nn.ReLU())\n",
    "        self.layer3 = nn.Sequential(nn.ConvTranspose2d(ngf*2, ngf, kernel_size = 4, stride = 2, padding = 1),\n",
    "                                 nn.BatchNorm2d(ngf),\n",
    "                                 nn.ReLU())\n",
    "        self.layer4 = nn.Sequential(nn.ConvTranspose2d(ngf, nc, kernel_size = 4, stride = 2, padding = 1),\n",
    "                                 nn.Tanh())\n",
    "    \n",
    "    def forward(self,x):\n",
    "        out = self.prj(x)\n",
    "        out = out.view(-1, 1024, 6, 6)\n",
    "        out = self.layer1(out)\n",
    "        out = self.layer2(out)\n",
    "        out = self.layer3(out)\n",
    "        out = self.layer4(out)\n",
    "        return out"
   ]
  },
  {
   "cell_type": "code",
   "execution_count": null,
   "metadata": {},
   "outputs": [],
   "source": [
    "d = D(3, 32)\n",
    "g = G(3, 128, 1024, 100)"
   ]
  },
  {
   "cell_type": "code",
   "execution_count": null,
   "metadata": {},
   "outputs": [],
   "source": [
    "criterion = nn.BCELoss()"
   ]
  },
  {
   "cell_type": "code",
   "execution_count": null,
   "metadata": {},
   "outputs": [],
   "source": [
    "d_optimizer = torch.optim.Adam(d.parameters(), lr = 0.0003)\n",
    "g_optimizer = torch.optim.Adam(g.parameters(), lr = 0.0003)"
   ]
  },
  {
   "cell_type": "code",
   "execution_count": null,
   "metadata": {},
   "outputs": [],
   "source": [
    "def train(d, g, criterion, d_optimizer, g_optimizer, epochs = 1, show_every = 1000, print_every = 10):\n",
    "    iter_count = 0\n",
    "    for epoch in range(epochs):\n",
    "        \n",
    "        for inputs,_ in trainloader:\n",
    "\n",
    "            real_inputs = inputs\n",
    "\n",
    "            fake_inputs = g(torch.randn(5, 100))\n",
    "            \n",
    "            real_labels = torch.ones(real_inputs.size(0), 1)\n",
    "            fake_labels = torch.zeros(5, 1)\n",
    "            \n",
    "            real_outputs = d(real_inputs)\n",
    "            d_loss_real = criterion(real_outputs, real_labels)\n",
    "            real_scores = real_outputs\n",
    "\n",
    "            fake_outputs = d(fake_inputs)\n",
    "            d_loss_fake = criterion(fake_outputs, fake_labels)\n",
    "            fake_scores = fake_outputs\n",
    "\n",
    "\n",
    "            d_loss = d_loss_real + d_loss_fake\n",
    "            d_optimizer.zero_grad()\n",
    "            d_loss.backward()\n",
    "            d_optimizer.step()\n",
    "        \n",
    "            fake_inputs = g(torch.randn(5, 100))\n",
    "            outputs = d(fake_inputs)\n",
    "            real_labels = torch.ones(outputs.size(0), 1)\n",
    "            g_loss = criterion(outputs, real_labels)\n",
    "            \n",
    "            g_optimizer.zero_grad()\n",
    "            g_loss.backward()\n",
    "            g_optimizer.step()\n",
    "\n",
    "            if (iter_count % show_every == 0):\n",
    "                print('Epoch:{},Iter: {}, D: {:.4}, G:{:.4}'.format(epoch, iter_count, d_loss.item(), g_loss.item()))\n",
    "                picname = \"Epoch_\" + str(epoch) + \"Iter_\" + str(iter_count)\n",
    "                imshow(torchvision.utils.make_grid(fake_inputs.data), picname)\n",
    "                save_param(d, 'd_model.pkl')\n",
    "                save_param(g, 'g_model.pkl')\n",
    "\n",
    "            if (iter_count % print_every == 0):\n",
    "                print('Epoch:{},Iter: {}, D: {:.4}, G:{:.4}'.format(epoch, iter_count, d_loss.item(), g_loss.item()))\n",
    "            iter_count += 1\n",
    "        \n",
    "    print('Finished Training')"
   ]
  },
  {
   "cell_type": "code",
   "execution_count": null,
   "metadata": {},
   "outputs": [],
   "source": [
    "def load_param(model, path):\n",
    "    if os.path.exists(path):\n",
    "        model.load_state_dict(torch.load(path))"
   ]
  },
  {
   "cell_type": "code",
   "execution_count": null,
   "metadata": {},
   "outputs": [],
   "source": [
    "def save_param(model, path):\n",
    "    torch.save(model.state_dict(), path)"
   ]
  },
  {
   "cell_type": "code",
   "execution_count": null,
   "metadata": {},
   "outputs": [],
   "source": [
    "if os.path.exists(\"d_model.pkl\"):\n",
    "    load_param(d, 'd_model.pkl')\n",
    "    load_param(g, 'g_model.pkl')"
   ]
  },
  {
   "cell_type": "code",
   "execution_count": null,
   "metadata": {},
   "outputs": [],
   "source": [
    "train(d, g, criterion, d_optimizer, g_optimizer, epochs = 300)"
   ]
  },
  {
   "cell_type": "code",
   "execution_count": null,
   "metadata": {},
   "outputs": [],
   "source": []
  }
 ],
 "metadata": {
  "kernelspec": {
   "display_name": "Python 3",
   "language": "python",
   "name": "python3"
  },
  "language_info": {
   "codemirror_mode": {
    "name": "ipython",
    "version": 3
   },
   "file_extension": ".py",
   "mimetype": "text/x-python",
   "name": "python",
   "nbconvert_exporter": "python",
   "pygments_lexer": "ipython3",
   "version": "3.6.9"
  }
 },
 "nbformat": 4,
 "nbformat_minor": 4
}
